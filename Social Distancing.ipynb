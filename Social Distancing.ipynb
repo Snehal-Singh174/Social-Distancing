{
 "cells": [
  {
   "cell_type": "code",
   "execution_count": null,
   "metadata": {},
   "outputs": [],
   "source": [
    "import cv2\n",
    "import math\n",
    "import smtplib\n",
    "import config\n",
    "import time\n",
    "cap=cv2.VideoCapture(0)"
   ]
  },
  {
   "cell_type": "code",
   "execution_count": null,
   "metadata": {},
   "outputs": [],
   "source": [
    "face_model=cv2.CascadeClassifier('haarcascade_frontalface_default.xml')"
   ]
  },
  {
   "cell_type": "code",
   "execution_count": null,
   "metadata": {},
   "outputs": [],
   "source": [
    "while True:\n",
    "    status,photo=cap.read()\n",
    "    \n",
    "    face_cor=face_model.detectMultiScale(photo)\n",
    "    if len(face_cor)==0:\n",
    "        pass\n",
    "    elif len(face_cor)==1:\n",
    "        x1=face_cor[0][0]\n",
    "        y1=face_cor[0][1]\n",
    "        x2=x1+face_cor[0][2]\n",
    "        y2=y1+face_cor[0][3]\n",
    "        photo=cv2.rectangle(photo,(x1,y1),(x2,y2),[0,255,0],2)\n",
    "        \n",
    "        cv2.imshow('test',photo)\n",
    "        if cv2.waitKey(10)==13:\n",
    "            break\n",
    "        \n",
    "    else:\n",
    "        x1=face_cor[0][0]\n",
    "        y1=face_cor[0][1]\n",
    "        x2=x1+face_cor[0][2]\n",
    "        y2=y1+face_cor[0][3]\n",
    "        a1=face_cor[1][0]\n",
    "        b1=face_cor[1][1]\n",
    "        a2=a1+face_cor[1][2]\n",
    "        b2=b1+face_cor[1][3]\n",
    "        i=(x1+x2)/2\n",
    "        j=(y1+y2)/2\n",
    "        k=(a1+a2)/2\n",
    "        l=(b1+b2)/2\n",
    "        photo=cv2.rectangle(photo,(a1,b1),(a2,b2),[0,255,0],2)\n",
    "        photo=cv2.rectangle(photo,(x1,y1),(x2,y2),[0,255,0],2)\n",
    "        dist=((i-j)*(i-j)+(k-l)*(k-l))**0.5\n",
    "        if dist<=182.88:\n",
    "            def send_mail(object,msg):\n",
    "                try:\n",
    "                    server=smtplib.SMTP('smtp.gmail.com:587')\n",
    "                    server.ehlo()\n",
    "                    server.starttls()\n",
    "                    server.login(config.Email_ADDRESS,config.PASSWORD)\n",
    "                    message='Subject : {}\\n\\n{}'.format(subject,msg)\n",
    "                    server.sendmail(config.EMAIL_ADDRESS,'singhsnehal174@gmail.com',message)\n",
    "                    server.quit()\n",
    "                    print(\"Success: Email Sent\")\n",
    "                except:\n",
    "                    print(\"Email failed to send\")\n",
    "            subject=\"CORONA UPDATE\"\n",
    "            msg=\"Two persons are not maintaining distance.\"\n",
    "            send_mail(subject,msg)\n",
    "            time.sleep(3)\n",
    "\n",
    "        else:\n",
    "            cv2.putText(photo,\"Maintained Distanced Correctly \",(100,100),cv2.FONT_HERSHEY_SIMPLEX,1,[255,0,0],2,cv2.LINE_AA)\n",
    "            \n",
    "        cv2.imshow('test',photo)\n",
    "        if cv2.waitKey(10)==13:\n",
    "            break\n",
    "        \n",
    "cv2.destroyAllWindows()            "
   ]
  },
  {
   "cell_type": "code",
   "execution_count": null,
   "metadata": {},
   "outputs": [],
   "source": [
    "cap.release()"
   ]
  },
  {
   "cell_type": "code",
   "execution_count": null,
   "metadata": {},
   "outputs": [],
   "source": []
  }
 ],
 "metadata": {
  "kernelspec": {
   "display_name": "Python 3",
   "language": "python",
   "name": "python3"
  },
  "language_info": {
   "codemirror_mode": {
    "name": "ipython",
    "version": 3
   },
   "file_extension": ".py",
   "mimetype": "text/x-python",
   "name": "python",
   "nbconvert_exporter": "python",
   "pygments_lexer": "ipython3",
   "version": "3.7.3"
  }
 },
 "nbformat": 4,
 "nbformat_minor": 2
}
